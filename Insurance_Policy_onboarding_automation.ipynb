{
  "nbformat": 4,
  "nbformat_minor": 0,
  "metadata": {
    "colab": {
      "provenance": [],
      "authorship_tag": "ABX9TyPXT7JzyaHfc1imlbKNlLaC",
      "include_colab_link": true
    },
    "kernelspec": {
      "name": "python3",
      "display_name": "Python 3"
    },
    "language_info": {
      "name": "python"
    }
  },
  "cells": [
    {
      "cell_type": "markdown",
      "metadata": {
        "id": "view-in-github",
        "colab_type": "text"
      },
      "source": [
        "<a href=\"https://colab.research.google.com/github/Vaish203-Desai/Insurance_Policy_Onboarding_Automation/blob/main/Insurance_Policy_onboarding_automation.ipynb\" target=\"_parent\"><img src=\"https://colab.research.google.com/assets/colab-badge.svg\" alt=\"Open In Colab\"/></a>"
      ]
    },
    {
      "cell_type": "code",
      "source": [
        "!pip install faker\n"
      ],
      "metadata": {
        "colab": {
          "base_uri": "https://localhost:8080/"
        },
        "id": "GMqgR-SIwsgb",
        "outputId": "06025d59-9d2c-4660-c9bd-dcf75877b81f"
      },
      "execution_count": 2,
      "outputs": [
        {
          "output_type": "stream",
          "name": "stdout",
          "text": [
            "Collecting faker\n",
            "  Downloading faker-37.12.0-py3-none-any.whl.metadata (15 kB)\n",
            "Requirement already satisfied: tzdata in /usr/local/lib/python3.12/dist-packages (from faker) (2025.2)\n",
            "Downloading faker-37.12.0-py3-none-any.whl (2.0 MB)\n",
            "\u001b[?25l   \u001b[90m━━━━━━━━━━━━━━━━━━━━━━━━━━━━━━━━━━━━━━━━\u001b[0m \u001b[32m0.0/2.0 MB\u001b[0m \u001b[31m?\u001b[0m eta \u001b[36m-:--:--\u001b[0m\r\u001b[2K   \u001b[91m━━━━━━━━━━━━━━━━━━━━━━━━━━━━━━━━━━━━\u001b[0m\u001b[90m╺\u001b[0m\u001b[90m━━━\u001b[0m \u001b[32m1.8/2.0 MB\u001b[0m \u001b[31m54.0 MB/s\u001b[0m eta \u001b[36m0:00:01\u001b[0m\r\u001b[2K   \u001b[90m━━━━━━━━━━━━━━━━━━━━━━━━━━━━━━━━━━━━━━━━\u001b[0m \u001b[32m2.0/2.0 MB\u001b[0m \u001b[31m40.3 MB/s\u001b[0m eta \u001b[36m0:00:00\u001b[0m\n",
            "\u001b[?25hInstalling collected packages: faker\n",
            "Successfully installed faker-37.12.0\n"
          ]
        }
      ]
    },
    {
      "cell_type": "code",
      "execution_count": 3,
      "metadata": {
        "id": "9Ke4oedSwAAu"
      },
      "outputs": [],
      "source": [
        "from faker import Faker\n",
        "import pandas as pd\n",
        "\n",
        "fake = Faker('en_IN')  # Use Indian locale for realism\n",
        "data = []\n",
        "for _ in range(100):\n",
        "    record = {\n",
        "        \"name\": fake.name(),\n",
        "        \"address\": fake.address().replace('\\n', ', '),\n",
        "        \"dob\": fake.date_of_birth(minimum_age=18, maximum_age=60),\n",
        "        \"aadhaar\": fake.random_number(digits=12),\n",
        "        \"pan\": fake.bothify(text='?????####?'),\n",
        "        \"phone\": fake.phone_number(),\n",
        "        \"email\": fake.email()\n",
        "    }\n",
        "    data.append(record)\n",
        "\n",
        "df_kyc = pd.DataFrame(data)\n",
        "df_kyc.to_csv(\"synthetic_kyc.csv\", index=False)\n"
      ]
    },
    {
      "cell_type": "code",
      "source": [
        "import pandas as pd\n",
        "import numpy as np\n",
        "from sklearn.ensemble import IsolationForest\n",
        "from sklearn.preprocessing import StandardScaler\n"
      ],
      "metadata": {
        "id": "y-1fFtvfwL8o"
      },
      "execution_count": 13,
      "outputs": []
    },
    {
      "cell_type": "code",
      "source": [
        "df_kyc = pd.read_csv('/content/synthetic_kyc.csv')"
      ],
      "metadata": {
        "id": "g3L11DIQylDH"
      },
      "execution_count": 4,
      "outputs": []
    },
    {
      "cell_type": "code",
      "source": [
        "df_kyc.head()"
      ],
      "metadata": {
        "colab": {
          "base_uri": "https://localhost:8080/",
          "height": 573
        },
        "id": "kOEbF8tMyqLy",
        "outputId": "524f14ed-bafc-46f2-ccd1-92031489501a"
      },
      "execution_count": null,
      "outputs": [
        {
          "output_type": "execute_result",
          "data": {
            "text/plain": [
              "              name                                  address         dob  \\\n",
              "0     Upkaar Borah     H.No. 333, Handa Chowk, Dehri 472641  2002-02-21   \n",
              "1     Vincent Muni    30/78, Sarraf Nagar, Begusarai-531933  1991-03-25   \n",
              "2    Udant Sampath    30/144, Mangal Ganj, Panchkula 559688  1995-07-31   \n",
              "3   Chanakya Khare     33/83, Krishnan Path, Ramgarh 964802  1990-11-21   \n",
              "4  Yauvani Ganesan  H.No. 751, Dugar Circle, Sambhal 828798  1997-10-19   \n",
              "\n",
              "        aadhaar         pan       phone                      email  \n",
              "0  478990992748  hsNKL8936f  1363995384       jairaj79@example.net  \n",
              "1  306764843210  sKmWO6767H   530116753    chopraanmol@example.org  \n",
              "2  613994594739  YXhbw9946g  1842703289   kurianamruta@example.com  \n",
              "3  865218951080  ATPra2675V  2139419652  harishsanghvi@example.org  \n",
              "4  648819570285  qxRNy4542K  5994153006  prabhakarowen@example.org  "
            ],
            "text/html": [
              "\n",
              "  <div id=\"df-26c2e18f-da25-483d-8a6b-6900d95f1360\" class=\"colab-df-container\">\n",
              "    <div>\n",
              "<style scoped>\n",
              "    .dataframe tbody tr th:only-of-type {\n",
              "        vertical-align: middle;\n",
              "    }\n",
              "\n",
              "    .dataframe tbody tr th {\n",
              "        vertical-align: top;\n",
              "    }\n",
              "\n",
              "    .dataframe thead th {\n",
              "        text-align: right;\n",
              "    }\n",
              "</style>\n",
              "<table border=\"1\" class=\"dataframe\">\n",
              "  <thead>\n",
              "    <tr style=\"text-align: right;\">\n",
              "      <th></th>\n",
              "      <th>name</th>\n",
              "      <th>address</th>\n",
              "      <th>dob</th>\n",
              "      <th>aadhaar</th>\n",
              "      <th>pan</th>\n",
              "      <th>phone</th>\n",
              "      <th>email</th>\n",
              "    </tr>\n",
              "  </thead>\n",
              "  <tbody>\n",
              "    <tr>\n",
              "      <th>0</th>\n",
              "      <td>Upkaar Borah</td>\n",
              "      <td>H.No. 333, Handa Chowk, Dehri 472641</td>\n",
              "      <td>2002-02-21</td>\n",
              "      <td>478990992748</td>\n",
              "      <td>hsNKL8936f</td>\n",
              "      <td>1363995384</td>\n",
              "      <td>jairaj79@example.net</td>\n",
              "    </tr>\n",
              "    <tr>\n",
              "      <th>1</th>\n",
              "      <td>Vincent Muni</td>\n",
              "      <td>30/78, Sarraf Nagar, Begusarai-531933</td>\n",
              "      <td>1991-03-25</td>\n",
              "      <td>306764843210</td>\n",
              "      <td>sKmWO6767H</td>\n",
              "      <td>530116753</td>\n",
              "      <td>chopraanmol@example.org</td>\n",
              "    </tr>\n",
              "    <tr>\n",
              "      <th>2</th>\n",
              "      <td>Udant Sampath</td>\n",
              "      <td>30/144, Mangal Ganj, Panchkula 559688</td>\n",
              "      <td>1995-07-31</td>\n",
              "      <td>613994594739</td>\n",
              "      <td>YXhbw9946g</td>\n",
              "      <td>1842703289</td>\n",
              "      <td>kurianamruta@example.com</td>\n",
              "    </tr>\n",
              "    <tr>\n",
              "      <th>3</th>\n",
              "      <td>Chanakya Khare</td>\n",
              "      <td>33/83, Krishnan Path, Ramgarh 964802</td>\n",
              "      <td>1990-11-21</td>\n",
              "      <td>865218951080</td>\n",
              "      <td>ATPra2675V</td>\n",
              "      <td>2139419652</td>\n",
              "      <td>harishsanghvi@example.org</td>\n",
              "    </tr>\n",
              "    <tr>\n",
              "      <th>4</th>\n",
              "      <td>Yauvani Ganesan</td>\n",
              "      <td>H.No. 751, Dugar Circle, Sambhal 828798</td>\n",
              "      <td>1997-10-19</td>\n",
              "      <td>648819570285</td>\n",
              "      <td>qxRNy4542K</td>\n",
              "      <td>5994153006</td>\n",
              "      <td>prabhakarowen@example.org</td>\n",
              "    </tr>\n",
              "  </tbody>\n",
              "</table>\n",
              "</div>\n",
              "    <div class=\"colab-df-buttons\">\n",
              "\n",
              "  <div class=\"colab-df-container\">\n",
              "    <button class=\"colab-df-convert\" onclick=\"convertToInteractive('df-26c2e18f-da25-483d-8a6b-6900d95f1360')\"\n",
              "            title=\"Convert this dataframe to an interactive table.\"\n",
              "            style=\"display:none;\">\n",
              "\n",
              "  <svg xmlns=\"http://www.w3.org/2000/svg\" height=\"24px\" viewBox=\"0 -960 960 960\">\n",
              "    <path d=\"M120-120v-720h720v720H120Zm60-500h600v-160H180v160Zm220 220h160v-160H400v160Zm0 220h160v-160H400v160ZM180-400h160v-160H180v160Zm440 0h160v-160H620v160ZM180-180h160v-160H180v160Zm440 0h160v-160H620v160Z\"/>\n",
              "  </svg>\n",
              "    </button>\n",
              "\n",
              "  <style>\n",
              "    .colab-df-container {\n",
              "      display:flex;\n",
              "      gap: 12px;\n",
              "    }\n",
              "\n",
              "    .colab-df-convert {\n",
              "      background-color: #E8F0FE;\n",
              "      border: none;\n",
              "      border-radius: 50%;\n",
              "      cursor: pointer;\n",
              "      display: none;\n",
              "      fill: #1967D2;\n",
              "      height: 32px;\n",
              "      padding: 0 0 0 0;\n",
              "      width: 32px;\n",
              "    }\n",
              "\n",
              "    .colab-df-convert:hover {\n",
              "      background-color: #E2EBFA;\n",
              "      box-shadow: 0px 1px 2px rgba(60, 64, 67, 0.3), 0px 1px 3px 1px rgba(60, 64, 67, 0.15);\n",
              "      fill: #174EA6;\n",
              "    }\n",
              "\n",
              "    .colab-df-buttons div {\n",
              "      margin-bottom: 4px;\n",
              "    }\n",
              "\n",
              "    [theme=dark] .colab-df-convert {\n",
              "      background-color: #3B4455;\n",
              "      fill: #D2E3FC;\n",
              "    }\n",
              "\n",
              "    [theme=dark] .colab-df-convert:hover {\n",
              "      background-color: #434B5C;\n",
              "      box-shadow: 0px 1px 3px 1px rgba(0, 0, 0, 0.15);\n",
              "      filter: drop-shadow(0px 1px 2px rgba(0, 0, 0, 0.3));\n",
              "      fill: #FFFFFF;\n",
              "    }\n",
              "  </style>\n",
              "\n",
              "    <script>\n",
              "      const buttonEl =\n",
              "        document.querySelector('#df-26c2e18f-da25-483d-8a6b-6900d95f1360 button.colab-df-convert');\n",
              "      buttonEl.style.display =\n",
              "        google.colab.kernel.accessAllowed ? 'block' : 'none';\n",
              "\n",
              "      async function convertToInteractive(key) {\n",
              "        const element = document.querySelector('#df-26c2e18f-da25-483d-8a6b-6900d95f1360');\n",
              "        const dataTable =\n",
              "          await google.colab.kernel.invokeFunction('convertToInteractive',\n",
              "                                                    [key], {});\n",
              "        if (!dataTable) return;\n",
              "\n",
              "        const docLinkHtml = 'Like what you see? Visit the ' +\n",
              "          '<a target=\"_blank\" href=https://colab.research.google.com/notebooks/data_table.ipynb>data table notebook</a>'\n",
              "          + ' to learn more about interactive tables.';\n",
              "        element.innerHTML = '';\n",
              "        dataTable['output_type'] = 'display_data';\n",
              "        await google.colab.output.renderOutput(dataTable, element);\n",
              "        const docLink = document.createElement('div');\n",
              "        docLink.innerHTML = docLinkHtml;\n",
              "        element.appendChild(docLink);\n",
              "      }\n",
              "    </script>\n",
              "  </div>\n",
              "\n",
              "\n",
              "    <div id=\"df-31f91856-ce8a-416c-921b-f1af01e0f032\">\n",
              "      <button class=\"colab-df-quickchart\" onclick=\"quickchart('df-31f91856-ce8a-416c-921b-f1af01e0f032')\"\n",
              "                title=\"Suggest charts\"\n",
              "                style=\"display:none;\">\n",
              "\n",
              "<svg xmlns=\"http://www.w3.org/2000/svg\" height=\"24px\"viewBox=\"0 0 24 24\"\n",
              "     width=\"24px\">\n",
              "    <g>\n",
              "        <path d=\"M19 3H5c-1.1 0-2 .9-2 2v14c0 1.1.9 2 2 2h14c1.1 0 2-.9 2-2V5c0-1.1-.9-2-2-2zM9 17H7v-7h2v7zm4 0h-2V7h2v10zm4 0h-2v-4h2v4z\"/>\n",
              "    </g>\n",
              "</svg>\n",
              "      </button>\n",
              "\n",
              "<style>\n",
              "  .colab-df-quickchart {\n",
              "      --bg-color: #E8F0FE;\n",
              "      --fill-color: #1967D2;\n",
              "      --hover-bg-color: #E2EBFA;\n",
              "      --hover-fill-color: #174EA6;\n",
              "      --disabled-fill-color: #AAA;\n",
              "      --disabled-bg-color: #DDD;\n",
              "  }\n",
              "\n",
              "  [theme=dark] .colab-df-quickchart {\n",
              "      --bg-color: #3B4455;\n",
              "      --fill-color: #D2E3FC;\n",
              "      --hover-bg-color: #434B5C;\n",
              "      --hover-fill-color: #FFFFFF;\n",
              "      --disabled-bg-color: #3B4455;\n",
              "      --disabled-fill-color: #666;\n",
              "  }\n",
              "\n",
              "  .colab-df-quickchart {\n",
              "    background-color: var(--bg-color);\n",
              "    border: none;\n",
              "    border-radius: 50%;\n",
              "    cursor: pointer;\n",
              "    display: none;\n",
              "    fill: var(--fill-color);\n",
              "    height: 32px;\n",
              "    padding: 0;\n",
              "    width: 32px;\n",
              "  }\n",
              "\n",
              "  .colab-df-quickchart:hover {\n",
              "    background-color: var(--hover-bg-color);\n",
              "    box-shadow: 0 1px 2px rgba(60, 64, 67, 0.3), 0 1px 3px 1px rgba(60, 64, 67, 0.15);\n",
              "    fill: var(--button-hover-fill-color);\n",
              "  }\n",
              "\n",
              "  .colab-df-quickchart-complete:disabled,\n",
              "  .colab-df-quickchart-complete:disabled:hover {\n",
              "    background-color: var(--disabled-bg-color);\n",
              "    fill: var(--disabled-fill-color);\n",
              "    box-shadow: none;\n",
              "  }\n",
              "\n",
              "  .colab-df-spinner {\n",
              "    border: 2px solid var(--fill-color);\n",
              "    border-color: transparent;\n",
              "    border-bottom-color: var(--fill-color);\n",
              "    animation:\n",
              "      spin 1s steps(1) infinite;\n",
              "  }\n",
              "\n",
              "  @keyframes spin {\n",
              "    0% {\n",
              "      border-color: transparent;\n",
              "      border-bottom-color: var(--fill-color);\n",
              "      border-left-color: var(--fill-color);\n",
              "    }\n",
              "    20% {\n",
              "      border-color: transparent;\n",
              "      border-left-color: var(--fill-color);\n",
              "      border-top-color: var(--fill-color);\n",
              "    }\n",
              "    30% {\n",
              "      border-color: transparent;\n",
              "      border-left-color: var(--fill-color);\n",
              "      border-top-color: var(--fill-color);\n",
              "      border-right-color: var(--fill-color);\n",
              "    }\n",
              "    40% {\n",
              "      border-color: transparent;\n",
              "      border-right-color: var(--fill-color);\n",
              "      border-top-color: var(--fill-color);\n",
              "    }\n",
              "    60% {\n",
              "      border-color: transparent;\n",
              "      border-right-color: var(--fill-color);\n",
              "    }\n",
              "    80% {\n",
              "      border-color: transparent;\n",
              "      border-right-color: var(--fill-color);\n",
              "      border-bottom-color: var(--fill-color);\n",
              "    }\n",
              "    90% {\n",
              "      border-color: transparent;\n",
              "      border-bottom-color: var(--fill-color);\n",
              "    }\n",
              "  }\n",
              "</style>\n",
              "\n",
              "      <script>\n",
              "        async function quickchart(key) {\n",
              "          const quickchartButtonEl =\n",
              "            document.querySelector('#' + key + ' button');\n",
              "          quickchartButtonEl.disabled = true;  // To prevent multiple clicks.\n",
              "          quickchartButtonEl.classList.add('colab-df-spinner');\n",
              "          try {\n",
              "            const charts = await google.colab.kernel.invokeFunction(\n",
              "                'suggestCharts', [key], {});\n",
              "          } catch (error) {\n",
              "            console.error('Error during call to suggestCharts:', error);\n",
              "          }\n",
              "          quickchartButtonEl.classList.remove('colab-df-spinner');\n",
              "          quickchartButtonEl.classList.add('colab-df-quickchart-complete');\n",
              "        }\n",
              "        (() => {\n",
              "          let quickchartButtonEl =\n",
              "            document.querySelector('#df-31f91856-ce8a-416c-921b-f1af01e0f032 button');\n",
              "          quickchartButtonEl.style.display =\n",
              "            google.colab.kernel.accessAllowed ? 'block' : 'none';\n",
              "        })();\n",
              "      </script>\n",
              "    </div>\n",
              "\n",
              "    </div>\n",
              "  </div>\n"
            ],
            "application/vnd.google.colaboratory.intrinsic+json": {
              "type": "dataframe",
              "variable_name": "df_kyc",
              "summary": "{\n  \"name\": \"df_kyc\",\n  \"rows\": 100,\n  \"fields\": [\n    {\n      \"column\": \"name\",\n      \"properties\": {\n        \"dtype\": \"string\",\n        \"num_unique_values\": 100,\n        \"samples\": [\n          \"Raghav Bose\",\n          \"Ranbir Ramanathan\",\n          \"Neha Taneja\"\n        ],\n        \"semantic_type\": \"\",\n        \"description\": \"\"\n      }\n    },\n    {\n      \"column\": \"address\",\n      \"properties\": {\n        \"dtype\": \"string\",\n        \"num_unique_values\": 100,\n        \"samples\": [\n          \"H.No. 635, Thaman Zila, Akola-211927\",\n          \"68/73, Sampath Chowk, Kollam-141128\",\n          \"634, Krishnan, Panchkula 632218\"\n        ],\n        \"semantic_type\": \"\",\n        \"description\": \"\"\n      }\n    },\n    {\n      \"column\": \"dob\",\n      \"properties\": {\n        \"dtype\": \"object\",\n        \"num_unique_values\": 99,\n        \"samples\": [\n          \"1995-08-10\",\n          \"1985-11-07\",\n          \"1970-04-11\"\n        ],\n        \"semantic_type\": \"\",\n        \"description\": \"\"\n      }\n    },\n    {\n      \"column\": \"aadhaar\",\n      \"properties\": {\n        \"dtype\": \"number\",\n        \"std\": 286525059432,\n        \"min\": 3953069429,\n        \"max\": 996468244754,\n        \"num_unique_values\": 100,\n        \"samples\": [\n          247035480182,\n          173414045293,\n          3953069429\n        ],\n        \"semantic_type\": \"\",\n        \"description\": \"\"\n      }\n    },\n    {\n      \"column\": \"pan\",\n      \"properties\": {\n        \"dtype\": \"string\",\n        \"num_unique_values\": 100,\n        \"samples\": [\n          \"JqlIV9506N\",\n          \"xGxhk0443G\",\n          \"wRiIV0952I\"\n        ],\n        \"semantic_type\": \"\",\n        \"description\": \"\"\n      }\n    },\n    {\n      \"column\": \"phone\",\n      \"properties\": {\n        \"dtype\": \"number\",\n        \"std\": 436185829938,\n        \"min\": 59582758,\n        \"max\": 919736373976,\n        \"num_unique_values\": 100,\n        \"samples\": [\n          7716962164,\n          916478440394,\n          3801781472\n        ],\n        \"semantic_type\": \"\",\n        \"description\": \"\"\n      }\n    },\n    {\n      \"column\": \"email\",\n      \"properties\": {\n        \"dtype\": \"string\",\n        \"num_unique_values\": 100,\n        \"samples\": [\n          \"jbhat@example.org\",\n          \"coza@example.com\",\n          \"wnadig@example.net\"\n        ],\n        \"semantic_type\": \"\",\n        \"description\": \"\"\n      }\n    }\n  ]\n}"
            }
          },
          "metadata": {},
          "execution_count": 6
        }
      ]
    },
    {
      "cell_type": "code",
      "source": [
        "df_kyc.info()"
      ],
      "metadata": {
        "colab": {
          "base_uri": "https://localhost:8080/"
        },
        "id": "krob2HmOys0i",
        "outputId": "01db4ba6-983b-45d3-fc54-aabbfadc271e"
      },
      "execution_count": null,
      "outputs": [
        {
          "output_type": "stream",
          "name": "stdout",
          "text": [
            "<class 'pandas.core.frame.DataFrame'>\n",
            "RangeIndex: 100 entries, 0 to 99\n",
            "Data columns (total 7 columns):\n",
            " #   Column   Non-Null Count  Dtype \n",
            "---  ------   --------------  ----- \n",
            " 0   name     100 non-null    object\n",
            " 1   address  100 non-null    object\n",
            " 2   dob      100 non-null    object\n",
            " 3   aadhaar  100 non-null    int64 \n",
            " 4   pan      100 non-null    object\n",
            " 5   phone    100 non-null    int64 \n",
            " 6   email    100 non-null    object\n",
            "dtypes: int64(2), object(5)\n",
            "memory usage: 5.6+ KB\n"
          ]
        }
      ]
    },
    {
      "cell_type": "code",
      "source": [
        "df_kyc.isnull().sum()"
      ],
      "metadata": {
        "colab": {
          "base_uri": "https://localhost:8080/",
          "height": 303
        },
        "id": "c-gDdocly0BU",
        "outputId": "c4c10e71-029a-48d5-9591-62c529c53a56"
      },
      "execution_count": null,
      "outputs": [
        {
          "output_type": "execute_result",
          "data": {
            "text/plain": [
              "name       0\n",
              "address    0\n",
              "dob        0\n",
              "aadhaar    0\n",
              "pan        0\n",
              "phone      0\n",
              "email      0\n",
              "dtype: int64"
            ],
            "text/html": [
              "<div>\n",
              "<style scoped>\n",
              "    .dataframe tbody tr th:only-of-type {\n",
              "        vertical-align: middle;\n",
              "    }\n",
              "\n",
              "    .dataframe tbody tr th {\n",
              "        vertical-align: top;\n",
              "    }\n",
              "\n",
              "    .dataframe thead th {\n",
              "        text-align: right;\n",
              "    }\n",
              "</style>\n",
              "<table border=\"1\" class=\"dataframe\">\n",
              "  <thead>\n",
              "    <tr style=\"text-align: right;\">\n",
              "      <th></th>\n",
              "      <th>0</th>\n",
              "    </tr>\n",
              "  </thead>\n",
              "  <tbody>\n",
              "    <tr>\n",
              "      <th>name</th>\n",
              "      <td>0</td>\n",
              "    </tr>\n",
              "    <tr>\n",
              "      <th>address</th>\n",
              "      <td>0</td>\n",
              "    </tr>\n",
              "    <tr>\n",
              "      <th>dob</th>\n",
              "      <td>0</td>\n",
              "    </tr>\n",
              "    <tr>\n",
              "      <th>aadhaar</th>\n",
              "      <td>0</td>\n",
              "    </tr>\n",
              "    <tr>\n",
              "      <th>pan</th>\n",
              "      <td>0</td>\n",
              "    </tr>\n",
              "    <tr>\n",
              "      <th>phone</th>\n",
              "      <td>0</td>\n",
              "    </tr>\n",
              "    <tr>\n",
              "      <th>email</th>\n",
              "      <td>0</td>\n",
              "    </tr>\n",
              "  </tbody>\n",
              "</table>\n",
              "</div><br><label><b>dtype:</b> int64</label>"
            ]
          },
          "metadata": {},
          "execution_count": 9
        }
      ]
    },
    {
      "cell_type": "code",
      "source": [
        "from faker import Faker\n",
        "import pandas as pd\n",
        "import random\n",
        "\n",
        "fake = Faker('en_IN')  # Indian locale for realism\n",
        "\n",
        "data = []\n",
        "for i in range(100):\n",
        "    customer_id = f\"CUST{1000 + i}\"  # unique customer IDs\n",
        "    record = {\n",
        "        \"customer_id\": customer_id,\n",
        "        \"name\": fake.name(),\n",
        "        \"address\": fake.address().replace('\\n', ', '),\n",
        "        \"dob\": fake.date_of_birth(minimum_age=18, maximum_age=60),\n",
        "        \"aadhaar\": fake.random_number(digits=12),\n",
        "        \"pan\": fake.bothify(text='?????####?'),\n",
        "        \"phone\": fake.phone_number(),\n",
        "        \"email\": fake.email(),\n",
        "\n",
        "        # Synthetic Claim Data\n",
        "        \"policy_number\": f\"POL{random.randint(100000, 999999)}\",\n",
        "        \"claim_amount\": round(random.uniform(5000, 200000), 2),  # ₹5k–₹2L range\n",
        "        \"claim_date\": fake.date_between(start_date='-3y', end_date='today')\n",
        "    }\n",
        "    data.append(record)\n",
        "\n",
        "# Create DataFrame\n",
        "df_claims = pd.DataFrame(data)\n",
        "\n",
        "# Save to CSV\n",
        "df_claims.to_csv(\"synthetic_kyc_claim_data.csv\", index=False)\n",
        "\n",
        "print(\"✅ Synthetic KYC + Claim dataset created successfully!\")\n",
        "print(df_claims.head())\n"
      ],
      "metadata": {
        "colab": {
          "base_uri": "https://localhost:8080/"
        },
        "id": "SO5WkOMZy8UI",
        "outputId": "db37e08b-2732-415a-d629-19e76c2f71c5"
      },
      "execution_count": 5,
      "outputs": [
        {
          "output_type": "stream",
          "name": "stdout",
          "text": [
            "✅ Synthetic KYC + Claim dataset created successfully!\n",
            "  customer_id             name                                address  \\\n",
            "0    CUST1000     Zashil Nagar   H.No. 74, Sahni Nagar, Bhilai-066344   \n",
            "1    CUST1001       Amruta Vig      23/62, Murthy, Farrukhabad 113869   \n",
            "2    CUST1002     Benjamin Pau      54/75, Bains Zila, Panipat 892300   \n",
            "3    CUST1003  Chaitanya Lalla  H.No. 22, Mishra Street, Korba 492432   \n",
            "4    CUST1004    Warhi Trivedi      38, Seshadri Zila, Katihar 008303   \n",
            "\n",
            "          dob       aadhaar         pan          phone  \\\n",
            "0  1970-03-08  874678391638  GiHjP9981c    03801747361   \n",
            "1  1986-12-20   11677585012  hRpkt6183V     6867570588   \n",
            "2  1986-05-29  296477792507  IuCEN4778j  +916211352295   \n",
            "3  1996-10-09  939159451190  lWnqi3458l    07273590966   \n",
            "4  1977-02-07  859440057080  oBksb0821t  +912177367575   \n",
            "\n",
            "                     email policy_number  claim_amount  claim_date  \n",
            "0       sara89@example.net     POL413227     119233.42  2023-04-09  \n",
            "1   xdeshpande@example.com     POL550493      76494.91  2022-12-19  \n",
            "2     raikiaan@example.com     POL698996      25677.88  2023-06-08  \n",
            "3  munipallavi@example.org     POL772398     137270.65  2023-11-03  \n",
            "4      fbhasin@example.com     POL260562     140182.26  2024-10-08  \n"
          ]
        }
      ]
    },
    {
      "cell_type": "code",
      "source": [
        "df_claims.head()"
      ],
      "metadata": {
        "colab": {
          "base_uri": "https://localhost:8080/",
          "height": 469
        },
        "id": "Ao5RuLnVz108",
        "outputId": "8af7b44f-9d3d-4909-bf57-7edbc2bcce9d"
      },
      "execution_count": null,
      "outputs": [
        {
          "output_type": "execute_result",
          "data": {
            "text/plain": [
              "  customer_id           name                                address  \\\n",
              "0    CUST1000   Garima Shere              28, Chacko, Aizawl 403463   \n",
              "1    CUST1001     Ria Mangal     04, Subramaniam Marg, Anand-235198   \n",
              "2    CUST1002   Ekavir Joshi         57, Banik Road, Khammam 671729   \n",
              "3    CUST1003    Manbir Shan  H.No. 83, Parmar Road, Naihati-134766   \n",
              "4    CUST1004  Urvashi Menon        24, Gala Road, Ghaziabad 606991   \n",
              "\n",
              "          dob       aadhaar         pan          phone  \\\n",
              "0  1982-04-27  704780606224  ISoXR4521h    03625732057   \n",
              "1  1991-05-20  848153004022  RvqmG2115E     9786410005   \n",
              "2  2004-08-29  395562877045  KWBCL0624U  +911794647593   \n",
              "3  1979-05-15  194510604060  CIDLn6783y  +919263103039   \n",
              "4  1999-12-01  848346306040  lKWSE4179T     2686618707   \n",
              "\n",
              "                            email policy_number  claim_amount  claim_date  \n",
              "0         bhatgaurang@example.com     POL286774     164696.00  2024-03-15  \n",
              "1              aadi99@example.org     POL595798      63588.30  2023-03-08  \n",
              "2       sekhonbalhaar@example.org     POL271752      82717.71  2023-05-03  \n",
              "3            anyaperi@example.net     POL348394     186877.63  2025-06-17  \n",
              "4  madhavramachandran@example.com     POL108648     127415.74  2023-09-30  "
            ],
            "text/html": [
              "\n",
              "  <div id=\"df-7858672f-7682-4dc9-b3e7-3a8beac5718a\" class=\"colab-df-container\">\n",
              "    <div>\n",
              "<style scoped>\n",
              "    .dataframe tbody tr th:only-of-type {\n",
              "        vertical-align: middle;\n",
              "    }\n",
              "\n",
              "    .dataframe tbody tr th {\n",
              "        vertical-align: top;\n",
              "    }\n",
              "\n",
              "    .dataframe thead th {\n",
              "        text-align: right;\n",
              "    }\n",
              "</style>\n",
              "<table border=\"1\" class=\"dataframe\">\n",
              "  <thead>\n",
              "    <tr style=\"text-align: right;\">\n",
              "      <th></th>\n",
              "      <th>customer_id</th>\n",
              "      <th>name</th>\n",
              "      <th>address</th>\n",
              "      <th>dob</th>\n",
              "      <th>aadhaar</th>\n",
              "      <th>pan</th>\n",
              "      <th>phone</th>\n",
              "      <th>email</th>\n",
              "      <th>policy_number</th>\n",
              "      <th>claim_amount</th>\n",
              "      <th>claim_date</th>\n",
              "    </tr>\n",
              "  </thead>\n",
              "  <tbody>\n",
              "    <tr>\n",
              "      <th>0</th>\n",
              "      <td>CUST1000</td>\n",
              "      <td>Garima Shere</td>\n",
              "      <td>28, Chacko, Aizawl 403463</td>\n",
              "      <td>1982-04-27</td>\n",
              "      <td>704780606224</td>\n",
              "      <td>ISoXR4521h</td>\n",
              "      <td>03625732057</td>\n",
              "      <td>bhatgaurang@example.com</td>\n",
              "      <td>POL286774</td>\n",
              "      <td>164696.00</td>\n",
              "      <td>2024-03-15</td>\n",
              "    </tr>\n",
              "    <tr>\n",
              "      <th>1</th>\n",
              "      <td>CUST1001</td>\n",
              "      <td>Ria Mangal</td>\n",
              "      <td>04, Subramaniam Marg, Anand-235198</td>\n",
              "      <td>1991-05-20</td>\n",
              "      <td>848153004022</td>\n",
              "      <td>RvqmG2115E</td>\n",
              "      <td>9786410005</td>\n",
              "      <td>aadi99@example.org</td>\n",
              "      <td>POL595798</td>\n",
              "      <td>63588.30</td>\n",
              "      <td>2023-03-08</td>\n",
              "    </tr>\n",
              "    <tr>\n",
              "      <th>2</th>\n",
              "      <td>CUST1002</td>\n",
              "      <td>Ekavir Joshi</td>\n",
              "      <td>57, Banik Road, Khammam 671729</td>\n",
              "      <td>2004-08-29</td>\n",
              "      <td>395562877045</td>\n",
              "      <td>KWBCL0624U</td>\n",
              "      <td>+911794647593</td>\n",
              "      <td>sekhonbalhaar@example.org</td>\n",
              "      <td>POL271752</td>\n",
              "      <td>82717.71</td>\n",
              "      <td>2023-05-03</td>\n",
              "    </tr>\n",
              "    <tr>\n",
              "      <th>3</th>\n",
              "      <td>CUST1003</td>\n",
              "      <td>Manbir Shan</td>\n",
              "      <td>H.No. 83, Parmar Road, Naihati-134766</td>\n",
              "      <td>1979-05-15</td>\n",
              "      <td>194510604060</td>\n",
              "      <td>CIDLn6783y</td>\n",
              "      <td>+919263103039</td>\n",
              "      <td>anyaperi@example.net</td>\n",
              "      <td>POL348394</td>\n",
              "      <td>186877.63</td>\n",
              "      <td>2025-06-17</td>\n",
              "    </tr>\n",
              "    <tr>\n",
              "      <th>4</th>\n",
              "      <td>CUST1004</td>\n",
              "      <td>Urvashi Menon</td>\n",
              "      <td>24, Gala Road, Ghaziabad 606991</td>\n",
              "      <td>1999-12-01</td>\n",
              "      <td>848346306040</td>\n",
              "      <td>lKWSE4179T</td>\n",
              "      <td>2686618707</td>\n",
              "      <td>madhavramachandran@example.com</td>\n",
              "      <td>POL108648</td>\n",
              "      <td>127415.74</td>\n",
              "      <td>2023-09-30</td>\n",
              "    </tr>\n",
              "  </tbody>\n",
              "</table>\n",
              "</div>\n",
              "    <div class=\"colab-df-buttons\">\n",
              "\n",
              "  <div class=\"colab-df-container\">\n",
              "    <button class=\"colab-df-convert\" onclick=\"convertToInteractive('df-7858672f-7682-4dc9-b3e7-3a8beac5718a')\"\n",
              "            title=\"Convert this dataframe to an interactive table.\"\n",
              "            style=\"display:none;\">\n",
              "\n",
              "  <svg xmlns=\"http://www.w3.org/2000/svg\" height=\"24px\" viewBox=\"0 -960 960 960\">\n",
              "    <path d=\"M120-120v-720h720v720H120Zm60-500h600v-160H180v160Zm220 220h160v-160H400v160Zm0 220h160v-160H400v160ZM180-400h160v-160H180v160Zm440 0h160v-160H620v160ZM180-180h160v-160H180v160Zm440 0h160v-160H620v160Z\"/>\n",
              "  </svg>\n",
              "    </button>\n",
              "\n",
              "  <style>\n",
              "    .colab-df-container {\n",
              "      display:flex;\n",
              "      gap: 12px;\n",
              "    }\n",
              "\n",
              "    .colab-df-convert {\n",
              "      background-color: #E8F0FE;\n",
              "      border: none;\n",
              "      border-radius: 50%;\n",
              "      cursor: pointer;\n",
              "      display: none;\n",
              "      fill: #1967D2;\n",
              "      height: 32px;\n",
              "      padding: 0 0 0 0;\n",
              "      width: 32px;\n",
              "    }\n",
              "\n",
              "    .colab-df-convert:hover {\n",
              "      background-color: #E2EBFA;\n",
              "      box-shadow: 0px 1px 2px rgba(60, 64, 67, 0.3), 0px 1px 3px 1px rgba(60, 64, 67, 0.15);\n",
              "      fill: #174EA6;\n",
              "    }\n",
              "\n",
              "    .colab-df-buttons div {\n",
              "      margin-bottom: 4px;\n",
              "    }\n",
              "\n",
              "    [theme=dark] .colab-df-convert {\n",
              "      background-color: #3B4455;\n",
              "      fill: #D2E3FC;\n",
              "    }\n",
              "\n",
              "    [theme=dark] .colab-df-convert:hover {\n",
              "      background-color: #434B5C;\n",
              "      box-shadow: 0px 1px 3px 1px rgba(0, 0, 0, 0.15);\n",
              "      filter: drop-shadow(0px 1px 2px rgba(0, 0, 0, 0.3));\n",
              "      fill: #FFFFFF;\n",
              "    }\n",
              "  </style>\n",
              "\n",
              "    <script>\n",
              "      const buttonEl =\n",
              "        document.querySelector('#df-7858672f-7682-4dc9-b3e7-3a8beac5718a button.colab-df-convert');\n",
              "      buttonEl.style.display =\n",
              "        google.colab.kernel.accessAllowed ? 'block' : 'none';\n",
              "\n",
              "      async function convertToInteractive(key) {\n",
              "        const element = document.querySelector('#df-7858672f-7682-4dc9-b3e7-3a8beac5718a');\n",
              "        const dataTable =\n",
              "          await google.colab.kernel.invokeFunction('convertToInteractive',\n",
              "                                                    [key], {});\n",
              "        if (!dataTable) return;\n",
              "\n",
              "        const docLinkHtml = 'Like what you see? Visit the ' +\n",
              "          '<a target=\"_blank\" href=https://colab.research.google.com/notebooks/data_table.ipynb>data table notebook</a>'\n",
              "          + ' to learn more about interactive tables.';\n",
              "        element.innerHTML = '';\n",
              "        dataTable['output_type'] = 'display_data';\n",
              "        await google.colab.output.renderOutput(dataTable, element);\n",
              "        const docLink = document.createElement('div');\n",
              "        docLink.innerHTML = docLinkHtml;\n",
              "        element.appendChild(docLink);\n",
              "      }\n",
              "    </script>\n",
              "  </div>\n",
              "\n",
              "\n",
              "    <div id=\"df-f7002289-3a62-40a8-92c5-0ffd691cd836\">\n",
              "      <button class=\"colab-df-quickchart\" onclick=\"quickchart('df-f7002289-3a62-40a8-92c5-0ffd691cd836')\"\n",
              "                title=\"Suggest charts\"\n",
              "                style=\"display:none;\">\n",
              "\n",
              "<svg xmlns=\"http://www.w3.org/2000/svg\" height=\"24px\"viewBox=\"0 0 24 24\"\n",
              "     width=\"24px\">\n",
              "    <g>\n",
              "        <path d=\"M19 3H5c-1.1 0-2 .9-2 2v14c0 1.1.9 2 2 2h14c1.1 0 2-.9 2-2V5c0-1.1-.9-2-2-2zM9 17H7v-7h2v7zm4 0h-2V7h2v10zm4 0h-2v-4h2v4z\"/>\n",
              "    </g>\n",
              "</svg>\n",
              "      </button>\n",
              "\n",
              "<style>\n",
              "  .colab-df-quickchart {\n",
              "      --bg-color: #E8F0FE;\n",
              "      --fill-color: #1967D2;\n",
              "      --hover-bg-color: #E2EBFA;\n",
              "      --hover-fill-color: #174EA6;\n",
              "      --disabled-fill-color: #AAA;\n",
              "      --disabled-bg-color: #DDD;\n",
              "  }\n",
              "\n",
              "  [theme=dark] .colab-df-quickchart {\n",
              "      --bg-color: #3B4455;\n",
              "      --fill-color: #D2E3FC;\n",
              "      --hover-bg-color: #434B5C;\n",
              "      --hover-fill-color: #FFFFFF;\n",
              "      --disabled-bg-color: #3B4455;\n",
              "      --disabled-fill-color: #666;\n",
              "  }\n",
              "\n",
              "  .colab-df-quickchart {\n",
              "    background-color: var(--bg-color);\n",
              "    border: none;\n",
              "    border-radius: 50%;\n",
              "    cursor: pointer;\n",
              "    display: none;\n",
              "    fill: var(--fill-color);\n",
              "    height: 32px;\n",
              "    padding: 0;\n",
              "    width: 32px;\n",
              "  }\n",
              "\n",
              "  .colab-df-quickchart:hover {\n",
              "    background-color: var(--hover-bg-color);\n",
              "    box-shadow: 0 1px 2px rgba(60, 64, 67, 0.3), 0 1px 3px 1px rgba(60, 64, 67, 0.15);\n",
              "    fill: var(--button-hover-fill-color);\n",
              "  }\n",
              "\n",
              "  .colab-df-quickchart-complete:disabled,\n",
              "  .colab-df-quickchart-complete:disabled:hover {\n",
              "    background-color: var(--disabled-bg-color);\n",
              "    fill: var(--disabled-fill-color);\n",
              "    box-shadow: none;\n",
              "  }\n",
              "\n",
              "  .colab-df-spinner {\n",
              "    border: 2px solid var(--fill-color);\n",
              "    border-color: transparent;\n",
              "    border-bottom-color: var(--fill-color);\n",
              "    animation:\n",
              "      spin 1s steps(1) infinite;\n",
              "  }\n",
              "\n",
              "  @keyframes spin {\n",
              "    0% {\n",
              "      border-color: transparent;\n",
              "      border-bottom-color: var(--fill-color);\n",
              "      border-left-color: var(--fill-color);\n",
              "    }\n",
              "    20% {\n",
              "      border-color: transparent;\n",
              "      border-left-color: var(--fill-color);\n",
              "      border-top-color: var(--fill-color);\n",
              "    }\n",
              "    30% {\n",
              "      border-color: transparent;\n",
              "      border-left-color: var(--fill-color);\n",
              "      border-top-color: var(--fill-color);\n",
              "      border-right-color: var(--fill-color);\n",
              "    }\n",
              "    40% {\n",
              "      border-color: transparent;\n",
              "      border-right-color: var(--fill-color);\n",
              "      border-top-color: var(--fill-color);\n",
              "    }\n",
              "    60% {\n",
              "      border-color: transparent;\n",
              "      border-right-color: var(--fill-color);\n",
              "    }\n",
              "    80% {\n",
              "      border-color: transparent;\n",
              "      border-right-color: var(--fill-color);\n",
              "      border-bottom-color: var(--fill-color);\n",
              "    }\n",
              "    90% {\n",
              "      border-color: transparent;\n",
              "      border-bottom-color: var(--fill-color);\n",
              "    }\n",
              "  }\n",
              "</style>\n",
              "\n",
              "      <script>\n",
              "        async function quickchart(key) {\n",
              "          const quickchartButtonEl =\n",
              "            document.querySelector('#' + key + ' button');\n",
              "          quickchartButtonEl.disabled = true;  // To prevent multiple clicks.\n",
              "          quickchartButtonEl.classList.add('colab-df-spinner');\n",
              "          try {\n",
              "            const charts = await google.colab.kernel.invokeFunction(\n",
              "                'suggestCharts', [key], {});\n",
              "          } catch (error) {\n",
              "            console.error('Error during call to suggestCharts:', error);\n",
              "          }\n",
              "          quickchartButtonEl.classList.remove('colab-df-spinner');\n",
              "          quickchartButtonEl.classList.add('colab-df-quickchart-complete');\n",
              "        }\n",
              "        (() => {\n",
              "          let quickchartButtonEl =\n",
              "            document.querySelector('#df-f7002289-3a62-40a8-92c5-0ffd691cd836 button');\n",
              "          quickchartButtonEl.style.display =\n",
              "            google.colab.kernel.accessAllowed ? 'block' : 'none';\n",
              "        })();\n",
              "      </script>\n",
              "    </div>\n",
              "\n",
              "    </div>\n",
              "  </div>\n"
            ],
            "application/vnd.google.colaboratory.intrinsic+json": {
              "type": "dataframe",
              "variable_name": "df_claims",
              "summary": "{\n  \"name\": \"df_claims\",\n  \"rows\": 100,\n  \"fields\": [\n    {\n      \"column\": \"customer_id\",\n      \"properties\": {\n        \"dtype\": \"string\",\n        \"num_unique_values\": 100,\n        \"samples\": [\n          \"CUST1083\",\n          \"CUST1053\",\n          \"CUST1070\"\n        ],\n        \"semantic_type\": \"\",\n        \"description\": \"\"\n      }\n    },\n    {\n      \"column\": \"name\",\n      \"properties\": {\n        \"dtype\": \"string\",\n        \"num_unique_values\": 100,\n        \"samples\": [\n          \"Laksh Iyengar\",\n          \"Turvi Mani\",\n          \"Eshana Dutt\"\n        ],\n        \"semantic_type\": \"\",\n        \"description\": \"\"\n      }\n    },\n    {\n      \"column\": \"address\",\n      \"properties\": {\n        \"dtype\": \"string\",\n        \"num_unique_values\": 100,\n        \"samples\": [\n          \"22/364, Kade Path, Nagaon 712154\",\n          \"824, Tata Circle, Loni 831180\",\n          \"H.No. 009, Saha Nagar, Srinagar-629142\"\n        ],\n        \"semantic_type\": \"\",\n        \"description\": \"\"\n      }\n    },\n    {\n      \"column\": \"dob\",\n      \"properties\": {\n        \"dtype\": \"date\",\n        \"min\": \"1965-02-26\",\n        \"max\": \"2007-10-25\",\n        \"num_unique_values\": 100,\n        \"samples\": [\n          \"1969-08-27\",\n          \"1968-05-12\",\n          \"1988-12-16\"\n        ],\n        \"semantic_type\": \"\",\n        \"description\": \"\"\n      }\n    },\n    {\n      \"column\": \"aadhaar\",\n      \"properties\": {\n        \"dtype\": \"number\",\n        \"std\": 282115432778,\n        \"min\": 22557118356,\n        \"max\": 988144983116,\n        \"num_unique_values\": 100,\n        \"samples\": [\n          967394934557,\n          462373923429,\n          466841947175\n        ],\n        \"semantic_type\": \"\",\n        \"description\": \"\"\n      }\n    },\n    {\n      \"column\": \"pan\",\n      \"properties\": {\n        \"dtype\": \"string\",\n        \"num_unique_values\": 100,\n        \"samples\": [\n          \"KxBmk5373G\",\n          \"OtsKf0757y\",\n          \"qcjyS3167k\"\n        ],\n        \"semantic_type\": \"\",\n        \"description\": \"\"\n      }\n    },\n    {\n      \"column\": \"phone\",\n      \"properties\": {\n        \"dtype\": \"string\",\n        \"num_unique_values\": 100,\n        \"samples\": [\n          \"+914080900089\",\n          \"+910019253877\",\n          \"+916037746703\"\n        ],\n        \"semantic_type\": \"\",\n        \"description\": \"\"\n      }\n    },\n    {\n      \"column\": \"email\",\n      \"properties\": {\n        \"dtype\": \"string\",\n        \"num_unique_values\": 100,\n        \"samples\": [\n          \"dayitapatla@example.com\",\n          \"meghana03@example.net\",\n          \"widishanarain@example.org\"\n        ],\n        \"semantic_type\": \"\",\n        \"description\": \"\"\n      }\n    },\n    {\n      \"column\": \"policy_number\",\n      \"properties\": {\n        \"dtype\": \"string\",\n        \"num_unique_values\": 100,\n        \"samples\": [\n          \"POL860220\",\n          \"POL476146\",\n          \"POL517042\"\n        ],\n        \"semantic_type\": \"\",\n        \"description\": \"\"\n      }\n    },\n    {\n      \"column\": \"claim_amount\",\n      \"properties\": {\n        \"dtype\": \"number\",\n        \"std\": 54688.687332905414,\n        \"min\": 8573.43,\n        \"max\": 196142.92,\n        \"num_unique_values\": 100,\n        \"samples\": [\n          8573.43,\n          45345.74,\n          39690.15\n        ],\n        \"semantic_type\": \"\",\n        \"description\": \"\"\n      }\n    },\n    {\n      \"column\": \"claim_date\",\n      \"properties\": {\n        \"dtype\": \"date\",\n        \"min\": \"2022-11-10\",\n        \"max\": \"2025-10-22\",\n        \"num_unique_values\": 92,\n        \"samples\": [\n          \"2025-01-29\",\n          \"2024-01-15\",\n          \"2024-01-04\"\n        ],\n        \"semantic_type\": \"\",\n        \"description\": \"\"\n      }\n    }\n  ]\n}"
            }
          },
          "metadata": {},
          "execution_count": 11
        }
      ]
    },
    {
      "cell_type": "code",
      "source": [
        "ocr_texts = []\n",
        "for _, row in df_claims.iterrows():\n",
        "    text = f\"\"\"\n",
        "    Name: {row['name']}\n",
        "    Address: {row['address']}\n",
        "    DOB: {row['dob']}\n",
        "    Aadhaar No: {row['aadhaar']}\n",
        "    PAN: {row['pan']}\n",
        "    Phone: {row['phone']}\n",
        "    Email: {row['email']}\n",
        "    Policy No: {row['policy_number']}\n",
        "    Claim Amount: ₹{row['claim_amount']}\n",
        "    Claim Date: {row['claim_date']}\n",
        "    \"\"\"\n",
        "    ocr_texts.append(text)\n"
      ],
      "metadata": {
        "id": "xXMprofSz9g7"
      },
      "execution_count": 6,
      "outputs": []
    },
    {
      "cell_type": "code",
      "source": [
        "import re\n",
        "\n",
        "def extract_fields(text):\n",
        "    patterns = {\n",
        "        \"name\": r\"Name:\\s*(.*)\",\n",
        "        \"address\": r\"Address:\\s*(.*)\",\n",
        "        \"aadhaar\": r\"Aadhaar No:\\s*(\\d{12})\",\n",
        "        \"pan\": r\"PAN:\\s*([A-Z]{5}\\d{4}[A-Z])\",\n",
        "        \"phone\": r\"Phone:\\s*([\\+\\d\\- ]{10,})\",\n",
        "        \"email\": r\"Email:\\s*([\\w\\.-]+@[\\w\\.-]+)\",\n",
        "         \"policy_number\": r\"Policy No:\\s*(POL\\d+)\",\n",
        "        \"claim_amount\": r\"Claim Amount:\\s*₹?([\\d\\.]+)\",\n",
        "        \"claim_date\": r\"Claim Date:\\s*(.*)\"\n",
        "    }\n",
        "\n",
        "    extracted = {}\n",
        "    for key, pattern in patterns.items():\n",
        "        match = re.search(pattern, text)\n",
        "        extracted[key] = match.group(1).strip() if match else None\n",
        "    return extracted\n",
        "\n",
        "# Apply the extraction\n",
        "structured_extracted = [extract_fields(t) for t in ocr_texts]\n",
        "df_extracted = pd.DataFrame(structured_extracted)\n",
        "print(df_extracted.head())\n"
      ],
      "metadata": {
        "colab": {
          "base_uri": "https://localhost:8080/"
        },
        "id": "I3QY7bop2uXd",
        "outputId": "5e3e5c58-de51-40e6-e3fa-bb8997866e78"
      },
      "execution_count": 7,
      "outputs": [
        {
          "output_type": "stream",
          "name": "stdout",
          "text": [
            "              name                                address       aadhaar   pan  \\\n",
            "0     Zashil Nagar   H.No. 74, Sahni Nagar, Bhilai-066344  874678391638  None   \n",
            "1       Amruta Vig      23/62, Murthy, Farrukhabad 113869          None  None   \n",
            "2     Benjamin Pau      54/75, Bains Zila, Panipat 892300  296477792507  None   \n",
            "3  Chaitanya Lalla  H.No. 22, Mishra Street, Korba 492432  939159451190  None   \n",
            "4    Warhi Trivedi      38, Seshadri Zila, Katihar 008303  859440057080  None   \n",
            "\n",
            "           phone                    email policy_number claim_amount  \\\n",
            "0    03801747361       sara89@example.net     POL413227    119233.42   \n",
            "1     6867570588   xdeshpande@example.com     POL550493     76494.91   \n",
            "2  +916211352295     raikiaan@example.com     POL698996     25677.88   \n",
            "3    07273590966  munipallavi@example.org     POL772398    137270.65   \n",
            "4  +912177367575      fbhasin@example.com     POL260562    140182.26   \n",
            "\n",
            "   claim_date  \n",
            "0  2023-04-09  \n",
            "1  2022-12-19  \n",
            "2  2023-06-08  \n",
            "3  2023-11-03  \n",
            "4  2024-10-08  \n"
          ]
        }
      ]
    },
    {
      "cell_type": "code",
      "source": [
        "structured_data = [extract_fields(t) for t in ocr_texts]\n",
        "df_extracted = pd.DataFrame(structured_data)\n",
        "print(df_extracted.head())\n"
      ],
      "metadata": {
        "colab": {
          "base_uri": "https://localhost:8080/"
        },
        "id": "BmPGZ42X30vn",
        "outputId": "ccff0429-dfe5-4b42-93b5-3641cf6c4097"
      },
      "execution_count": 8,
      "outputs": [
        {
          "output_type": "stream",
          "name": "stdout",
          "text": [
            "              name                                address       aadhaar   pan  \\\n",
            "0     Zashil Nagar   H.No. 74, Sahni Nagar, Bhilai-066344  874678391638  None   \n",
            "1       Amruta Vig      23/62, Murthy, Farrukhabad 113869          None  None   \n",
            "2     Benjamin Pau      54/75, Bains Zila, Panipat 892300  296477792507  None   \n",
            "3  Chaitanya Lalla  H.No. 22, Mishra Street, Korba 492432  939159451190  None   \n",
            "4    Warhi Trivedi      38, Seshadri Zila, Katihar 008303  859440057080  None   \n",
            "\n",
            "           phone                    email policy_number claim_amount  \\\n",
            "0    03801747361       sara89@example.net     POL413227    119233.42   \n",
            "1     6867570588   xdeshpande@example.com     POL550493     76494.91   \n",
            "2  +916211352295     raikiaan@example.com     POL698996     25677.88   \n",
            "3    07273590966  munipallavi@example.org     POL772398    137270.65   \n",
            "4  +912177367575      fbhasin@example.com     POL260562    140182.26   \n",
            "\n",
            "   claim_date  \n",
            "0  2023-04-09  \n",
            "1  2022-12-19  \n",
            "2  2023-06-08  \n",
            "3  2023-11-03  \n",
            "4  2024-10-08  \n"
          ]
        }
      ]
    },
    {
      "cell_type": "code",
      "source": [
        "comparison_cols = ['name', 'address', 'aadhaar', 'pan', 'phone', 'email']\n",
        "accuracy = (df_extracted[comparison_cols] == df_claims[comparison_cols]).mean() * 100\n",
        "print(\"\\nExtraction Accuracy (%):\")\n",
        "print(accuracy)\n"
      ],
      "metadata": {
        "colab": {
          "base_uri": "https://localhost:8080/"
        },
        "id": "y39jXBby3-0E",
        "outputId": "a5d2cd51-4f83-4904-f94a-fe47a0b6c79a"
      },
      "execution_count": 9,
      "outputs": [
        {
          "output_type": "stream",
          "name": "stdout",
          "text": [
            "\n",
            "Extraction Accuracy (%):\n",
            "name       100.0\n",
            "address    100.0\n",
            "aadhaar      0.0\n",
            "pan          1.0\n",
            "phone      100.0\n",
            "email      100.0\n",
            "dtype: float64\n"
          ]
        }
      ]
    },
    {
      "cell_type": "code",
      "source": [
        "# Save extracted structured data to CSV\n",
        "df_extracted.to_csv(\"extracted_kyc_data.csv\", index=False)\n",
        "\n",
        "print(\"✅ Extracted data saved successfully as 'extracted_kyc_data.csv'\")\n"
      ],
      "metadata": {
        "colab": {
          "base_uri": "https://localhost:8080/"
        },
        "id": "C963iIuo5Bnj",
        "outputId": "b465c9b5-62ea-42de-92ff-93c85b3be260"
      },
      "execution_count": 10,
      "outputs": [
        {
          "output_type": "stream",
          "name": "stdout",
          "text": [
            "✅ Extracted data saved successfully as 'extracted_kyc_data.csv'\n"
          ]
        }
      ]
    },
    {
      "cell_type": "code",
      "source": [
        "df = pd.read_csv(\"synthetic_kyc_claim_data.csv\")\n",
        "print(df.head())\n",
        "print(df.info())"
      ],
      "metadata": {
        "id": "BN9lKrSv52xP",
        "colab": {
          "base_uri": "https://localhost:8080/"
        },
        "outputId": "fdada6bb-4b4d-4b13-e503-b31e93c304e0"
      },
      "execution_count": 11,
      "outputs": [
        {
          "output_type": "stream",
          "name": "stdout",
          "text": [
            "  customer_id             name                                address  \\\n",
            "0    CUST1000     Zashil Nagar   H.No. 74, Sahni Nagar, Bhilai-066344   \n",
            "1    CUST1001       Amruta Vig      23/62, Murthy, Farrukhabad 113869   \n",
            "2    CUST1002     Benjamin Pau      54/75, Bains Zila, Panipat 892300   \n",
            "3    CUST1003  Chaitanya Lalla  H.No. 22, Mishra Street, Korba 492432   \n",
            "4    CUST1004    Warhi Trivedi      38, Seshadri Zila, Katihar 008303   \n",
            "\n",
            "          dob       aadhaar         pan         phone  \\\n",
            "0  1970-03-08  874678391638  GiHjP9981c    3801747361   \n",
            "1  1986-12-20   11677585012  hRpkt6183V    6867570588   \n",
            "2  1986-05-29  296477792507  IuCEN4778j  916211352295   \n",
            "3  1996-10-09  939159451190  lWnqi3458l    7273590966   \n",
            "4  1977-02-07  859440057080  oBksb0821t  912177367575   \n",
            "\n",
            "                     email policy_number  claim_amount  claim_date  \n",
            "0       sara89@example.net     POL413227     119233.42  2023-04-09  \n",
            "1   xdeshpande@example.com     POL550493      76494.91  2022-12-19  \n",
            "2     raikiaan@example.com     POL698996      25677.88  2023-06-08  \n",
            "3  munipallavi@example.org     POL772398     137270.65  2023-11-03  \n",
            "4      fbhasin@example.com     POL260562     140182.26  2024-10-08  \n",
            "<class 'pandas.core.frame.DataFrame'>\n",
            "RangeIndex: 100 entries, 0 to 99\n",
            "Data columns (total 11 columns):\n",
            " #   Column         Non-Null Count  Dtype  \n",
            "---  ------         --------------  -----  \n",
            " 0   customer_id    100 non-null    object \n",
            " 1   name           100 non-null    object \n",
            " 2   address        100 non-null    object \n",
            " 3   dob            100 non-null    object \n",
            " 4   aadhaar        100 non-null    int64  \n",
            " 5   pan            100 non-null    object \n",
            " 6   phone          100 non-null    int64  \n",
            " 7   email          100 non-null    object \n",
            " 8   policy_number  100 non-null    object \n",
            " 9   claim_amount   100 non-null    float64\n",
            " 10  claim_date     100 non-null    object \n",
            "dtypes: float64(1), int64(2), object(8)\n",
            "memory usage: 8.7+ KB\n",
            "None\n"
          ]
        }
      ]
    },
    {
      "cell_type": "code",
      "source": [
        "import numpy as np\n",
        "\n",
        "# Convert claim_date to datetime\n",
        "df['claim_date'] = pd.to_datetime(df['claim_date'], errors='coerce')\n",
        "\n",
        "# Feature: extract claim month and year\n",
        "df['claim_month'] = df['claim_date'].dt.month\n",
        "df['claim_year'] = df['claim_date'].dt.year\n",
        "\n",
        "# Feature: approximate age from dob\n",
        "df['dob'] = pd.to_datetime(df['dob'], errors='coerce')\n",
        "df['age'] = (pd.Timestamp.now() - df['dob']).dt.days // 365\n",
        "\n",
        "# Keep numeric features for modeling\n",
        "features = df[['claim_amount', 'claim_month', 'claim_year', 'age']]\n",
        "\n",
        "print(features.head())\n"
      ],
      "metadata": {
        "colab": {
          "base_uri": "https://localhost:8080/"
        },
        "id": "HNHim3E6Jp6P",
        "outputId": "5692b901-76a5-49e0-e983-b01a089c61d9"
      },
      "execution_count": 12,
      "outputs": [
        {
          "output_type": "stream",
          "name": "stdout",
          "text": [
            "   claim_amount  claim_month  claim_year  age\n",
            "0     119233.42            4        2023   55\n",
            "1      76494.91           12        2022   38\n",
            "2      25677.88            6        2023   39\n",
            "3     137270.65           11        2023   29\n",
            "4     140182.26           10        2024   48\n"
          ]
        }
      ]
    },
    {
      "cell_type": "code",
      "source": [
        "# Scale the features\n",
        "scaler = StandardScaler()\n",
        "X_scaled = scaler.fit_transform(features)\n",
        "\n",
        "# Train Isolation Forest\n",
        "iso = IsolationForest(contamination=0.05, random_state=42)\n",
        "df['anomaly_score'] = iso.fit_predict(X_scaled)\n",
        "\n",
        "# Label: -1 = anomaly (potential fraud), 1 = normal\n",
        "df['fraud_flag'] = df['anomaly_score'].apply(lambda x: 'Fraudulent' if x == -1 else 'Normal')\n",
        "\n",
        "print(df[['customer_id', 'claim_amount', 'fraud_flag']].head(10))"
      ],
      "metadata": {
        "colab": {
          "base_uri": "https://localhost:8080/"
        },
        "id": "pGBRPHVJKTVf",
        "outputId": "8a923029-10c5-40e3-966f-8ece7d0750fb"
      },
      "execution_count": 14,
      "outputs": [
        {
          "output_type": "stream",
          "name": "stdout",
          "text": [
            "  customer_id  claim_amount  fraud_flag\n",
            "0    CUST1000     119233.42      Normal\n",
            "1    CUST1001      76494.91  Fraudulent\n",
            "2    CUST1002      25677.88      Normal\n",
            "3    CUST1003     137270.65      Normal\n",
            "4    CUST1004     140182.26      Normal\n",
            "5    CUST1005      13841.00      Normal\n",
            "6    CUST1006      32191.77  Fraudulent\n",
            "7    CUST1007      43791.28      Normal\n",
            "8    CUST1008      63703.32      Normal\n",
            "9    CUST1009     190580.67      Normal\n"
          ]
        }
      ]
    },
    {
      "cell_type": "code",
      "source": [
        "fraud_summary = df['fraud_flag'].value_counts()\n",
        "print(\"\\nFraud Detection Summary:\")\n",
        "print(fraud_summary)\n",
        "\n",
        "# Check average claim amount difference\n",
        "print(\"\\nAverage Claim Amounts:\")\n",
        "print(df.groupby('fraud_flag')['claim_amount'].mean())\n"
      ],
      "metadata": {
        "colab": {
          "base_uri": "https://localhost:8080/"
        },
        "id": "d-_ASVBgK0zJ",
        "outputId": "e7cd268b-2c75-4870-ce70-aa8e0d7d0fcc"
      },
      "execution_count": 15,
      "outputs": [
        {
          "output_type": "stream",
          "name": "stdout",
          "text": [
            "\n",
            "Fraud Detection Summary:\n",
            "fraud_flag\n",
            "Normal        95\n",
            "Fraudulent     5\n",
            "Name: count, dtype: int64\n",
            "\n",
            "Average Claim Amounts:\n",
            "fraud_flag\n",
            "Fraudulent     48902.080000\n",
            "Normal        111836.024421\n",
            "Name: claim_amount, dtype: float64\n"
          ]
        }
      ]
    },
    {
      "cell_type": "code",
      "source": [
        "from tensorflow.keras.models import Model\n",
        "from tensorflow.keras.layers import Input, Dense\n",
        "from tensorflow.keras.optimizers import Adam\n"
      ],
      "metadata": {
        "id": "wOq06PXoLF3r"
      },
      "execution_count": 16,
      "outputs": []
    },
    {
      "cell_type": "code",
      "source": [
        "# Autoencoder architecture\n",
        "input_dim = X_scaled.shape[1]\n",
        "input_layer = Input(shape=(input_dim,))\n",
        "encoder = Dense(8, activation='relu')(input_layer)\n",
        "encoder = Dense(4, activation='relu')(encoder)\n",
        "decoder = Dense(8, activation='relu')(encoder)\n",
        "decoder = Dense(input_dim, activation='linear')(decoder)\n",
        "autoencoder = Model(inputs=input_layer, outputs=decoder)\n",
        "\n",
        "autoencoder.compile(optimizer=Adam(learning_rate=0.001), loss='mse')\n",
        "autoencoder.fit(X_scaled, X_scaled, epochs=30, batch_size=8, verbose=0)\n",
        "\n",
        "# Reconstruction error\n",
        "reconstructions = autoencoder.predict(X_scaled)\n",
        "mse = np.mean(np.power(X_scaled - reconstructions, 2), axis=1)\n",
        "threshold = np.percentile(mse, 95)  # Top 5% = anomalies\n",
        "\n",
        "df['autoencoder_fraud_flag'] = np.where(mse > threshold, 'Fraudulent', 'Normal')\n",
        "print(df[['customer_id', 'claim_amount', 'autoencoder_fraud_flag']].head())"
      ],
      "metadata": {
        "colab": {
          "base_uri": "https://localhost:8080/"
        },
        "id": "VLMhlvpILXaM",
        "outputId": "fd756112-7c5d-48a7-87d3-dd286215bc0a"
      },
      "execution_count": 17,
      "outputs": [
        {
          "output_type": "stream",
          "name": "stdout",
          "text": [
            "\u001b[1m4/4\u001b[0m \u001b[32m━━━━━━━━━━━━━━━━━━━━\u001b[0m\u001b[37m\u001b[0m \u001b[1m0s\u001b[0m 19ms/step\n",
            "  customer_id  claim_amount autoencoder_fraud_flag\n",
            "0    CUST1000     119233.42                 Normal\n",
            "1    CUST1001      76494.91                 Normal\n",
            "2    CUST1002      25677.88                 Normal\n",
            "3    CUST1003     137270.65                 Normal\n",
            "4    CUST1004     140182.26                 Normal\n"
          ]
        }
      ]
    },
    {
      "cell_type": "code",
      "source": [
        "df.to_csv(\"claim_data_with_fraud_flags.csv\", index=False)\n",
        "print(\"✅ Saved file with fraud detection results: claim_data_with_fraud_flags.csv\")\n"
      ],
      "metadata": {
        "colab": {
          "base_uri": "https://localhost:8080/"
        },
        "id": "V-MWyyurLgpA",
        "outputId": "88f26e5a-6bb1-42e4-b343-517b7541a143"
      },
      "execution_count": 18,
      "outputs": [
        {
          "output_type": "stream",
          "name": "stdout",
          "text": [
            "✅ Saved file with fraud detection results: claim_data_with_fraud_flags.csv\n"
          ]
        }
      ]
    },
    {
      "cell_type": "code",
      "source": [
        "# Compute mean claim amount\n",
        "mean_claim = df['claim_amount'].mean()\n",
        "\n",
        "# Assign colors based on fraud flag\n",
        "color_map = {'Normal': 'blue', 'Fraudulent': 'green'}\n",
        "colors = df['fraud_flag'].map(color_map)\n",
        "\n",
        "# Create scatter plot\n",
        "plt.figure(figsize=(10,6))\n",
        "plt.scatter(df.index, df['claim_amount'], c=colors, label='Claims: Red(Normal), Green(Fraud)', alpha=0.7)\n",
        "\n",
        "# Plot mean claim line in red\n",
        "plt.axhline(y=mean_claim, color='red', linestyle='--', linewidth=2, label=f'Mean Claim Amount (₹{mean_claim:.2f})')\n",
        "\n",
        "# Labels, title, legend\n",
        "plt.title(\"Claim Amount Distribution with Fraud Flags\", fontsize=14, weight='bold')\n",
        "plt.xlabel(\"Record Index\", fontsize=12)\n",
        "plt.ylabel(\"Claim Amount (₹)\", fontsize=12)\n",
        "plt.legend(title=\"Legend\", loc=\"upper right\")\n",
        "plt.grid(alpha=0.3)\n",
        "\n",
        "# Show the plot\n",
        "plt.tight_layout()\n",
        "plt.show()"
      ],
      "metadata": {
        "colab": {
          "base_uri": "https://localhost:8080/",
          "height": 437
        },
        "id": "CpKXcw6hLodP",
        "outputId": "3271b194-36db-4032-d86c-c4c17c1c55e1"
      },
      "execution_count": 23,
      "outputs": [
        {
          "output_type": "display_data",
          "data": {
            "text/plain": [
              "<Figure size 1000x600 with 1 Axes>"
            ],
            "image/png": "[encoded data removed]"
          },
          "metadata": {}
        }
      ]
    },
    {
      "cell_type": "code",
      "source": [
        "import matplotlib.pyplot as plt\n",
        "\n",
        "plt.figure(figsize=(8,5))\n",
        "df.boxplot(column='claim_amount', by='fraud_flag')\n",
        "plt.title(\"Claim Amount Distribution by Fraud Status\")\n",
        "plt.suptitle(\"\")\n",
        "plt.xlabel(\"Fraud Flag\")\n",
        "plt.ylabel(\"Claim Amount (₹)\")\n",
        "plt.show()\n"
      ],
      "metadata": {
        "colab": {
          "base_uri": "https://localhost:8080/",
          "height": 479
        },
        "id": "qBTgf0-5Ltck",
        "outputId": "fe03a323-a113-4ee5-b8f4-c0f9e9399b97"
      },
      "execution_count": 21,
      "outputs": [
        {
          "output_type": "display_data",
          "data": {
            "text/plain": [
              "<Figure size 800x500 with 0 Axes>"
            ]
          },
          "metadata": {}
        },
        {
          "output_type": "display_data",
          "data": {
            "text/plain": [
              "<Figure size 640x480 with 1 Axes>"
            ],
            "image/png": "[encoded data removed]"
          },
          "metadata": {}
        }
      ]
    },
    {
      "cell_type": "code",
      "source": [],
      "metadata": {
        "id": "a3mVJ3z-Nq1e"
      },
      "execution_count": null,
      "outputs": []
    }
  ]
}